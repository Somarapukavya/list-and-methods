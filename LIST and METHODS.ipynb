{
 "cells": [
  {
   "cell_type": "code",
   "execution_count": null,
   "id": "3ae0dee5-07db-443f-bbe7-b710b6982906",
   "metadata": {},
   "outputs": [],
   "source": [
    "## LIST and METHODS\n",
    "list is a collection of different data types elements\n",
    "list is mutable\n",
    "list is index based and sliceable\n",
    "list is denotes with []\n",
    "list contains duplicate values \n",
    "list is hestrogenius"
   ]
  },
  {
   "cell_type": "code",
   "execution_count": null,
   "id": "88f79557-3aff-43dd-903d-d270516247cc",
   "metadata": {},
   "outputs": [],
   "source": [
    "l = [1,2,3,'a','b',5.5,6,1,2,3]"
   ]
  },
  {
   "cell_type": "code",
   "execution_count": 4,
   "id": "9cde9dee-ac34-4e7c-bf83-a1dd4507f0b4",
   "metadata": {},
   "outputs": [
    {
     "name": "stdout",
     "output_type": "stream",
     "text": [
      "[100, 1, 2]\n"
     ]
    }
   ],
   "source": [
    "## mutable\n",
    "l = [0,1,2]\n",
    "l[0] = 100\n",
    "print(l)"
   ]
  },
  {
   "cell_type": "code",
   "execution_count": 9,
   "id": "d5412b4d-b77e-49df-87a6-55bff7a560f1",
   "metadata": {},
   "outputs": [
    {
     "ename": "TypeError",
     "evalue": "'str' object does not support item assignment",
     "output_type": "error",
     "traceback": [
      "\u001b[31m---------------------------------------------------------------------------\u001b[39m",
      "\u001b[31mTypeError\u001b[39m                                 Traceback (most recent call last)",
      "\u001b[36mCell\u001b[39m\u001b[36m \u001b[39m\u001b[32mIn[9]\u001b[39m\u001b[32m, line 2\u001b[39m\n\u001b[32m      1\u001b[39m s = \u001b[33m'\u001b[39m\u001b[33mabcd\u001b[39m\u001b[33m'\u001b[39m\n\u001b[32m----> \u001b[39m\u001b[32m2\u001b[39m \u001b[43ms\u001b[49m\u001b[43m[\u001b[49m\u001b[32;43m0\u001b[39;49m\u001b[43m]\u001b[49m = \u001b[33m'\u001b[39m\u001b[33mz\u001b[39m\u001b[33m'\u001b[39m\n\u001b[32m      3\u001b[39m \u001b[38;5;28mprint\u001b[39m(s)\n",
      "\u001b[31mTypeError\u001b[39m: 'str' object does not support item assignment"
     ]
    }
   ],
   "source": [
    "s = 'abcd'\n",
    "s[0] = 'z'\n",
    "print(s)"
   ]
  },
  {
   "cell_type": "code",
   "execution_count": 12,
   "id": "45eca665-5ade-4f4f-b701-164e3379ce62",
   "metadata": {},
   "outputs": [
    {
     "name": "stdout",
     "output_type": "stream",
     "text": [
      "1\n",
      "5.5\n",
      "5.5\n",
      "1\n"
     ]
    }
   ],
   "source": [
    "## index based and sliceable\n",
    "l = [1,2,3,'a','b',5.5,6,1,2,3]\n",
    "\n",
    "print(l[0])\n",
    "print(l[-5])\n",
    "print(l[5])\n",
    "print(l[-3])"
   ]
  },
  {
   "cell_type": "code",
   "execution_count": 13,
   "id": "6f91a5f2-0f35-4445-94f7-badb1b6fba42",
   "metadata": {},
   "outputs": [
    {
     "name": "stdout",
     "output_type": "stream",
     "text": [
      "[3, 'a']\n",
      "[3, 'a', 'b', 5.5, 6, 1, 2, 3]\n",
      "[1, 2, 3, 'a', 'b', 5.5]\n"
     ]
    }
   ],
   "source": [
    "l = [1,2,3,'a','b',5.5,6,1,2,3]\n",
    "print(l[2:4])\n",
    "print(l[2:])\n",
    "print(l[:-4])"
   ]
  },
  {
   "cell_type": "code",
   "execution_count": 16,
   "id": "29a0dd0f-2822-4242-8c4f-5ba2e65fcf40",
   "metadata": {},
   "outputs": [
    {
     "name": "stdout",
     "output_type": "stream",
     "text": [
      "<class 'list'> <class 'list'>\n"
     ]
    }
   ],
   "source": [
    "## create empty list\n",
    "lst = []\n",
    "lst1 = list()\n",
    "print(type(lst),type(lst1))"
   ]
  },
  {
   "cell_type": "code",
   "execution_count": 17,
   "id": "5483340e-ddd6-46b2-913a-45619ba82041",
   "metadata": {},
   "outputs": [
    {
     "data": {
      "text/plain": [
       "0"
      ]
     },
     "execution_count": 17,
     "metadata": {},
     "output_type": "execute_result"
    }
   ],
   "source": [
    "len(lst)"
   ]
  },
  {
   "cell_type": "code",
   "execution_count": 20,
   "id": "d4ac449c-b3f7-43dd-8635-9dc598e18300",
   "metadata": {},
   "outputs": [
    {
     "name": "stdout",
     "output_type": "stream",
     "text": [
      "[0]\n"
     ]
    }
   ],
   "source": [
    "lst = [0]\n",
    "len = (lst)\n",
    "print(len)"
   ]
  },
  {
   "cell_type": "code",
   "execution_count": 22,
   "id": "70a4394e-931d-49a4-8cab-eee9f17d949e",
   "metadata": {},
   "outputs": [
    {
     "name": "stdin",
     "output_type": "stream",
     "text": [
      " 1 2 3 4\n"
     ]
    },
    {
     "data": {
      "text/plain": [
       "['1', '2', '3', '4']"
      ]
     },
     "execution_count": 22,
     "metadata": {},
     "output_type": "execute_result"
    }
   ],
   "source": [
    "## read list of element from user \n",
    "input().split()\n"
   ]
  },
  {
   "cell_type": "code",
   "execution_count": 24,
   "id": "571a5da1-182f-4d97-8956-c1e10fe5925a",
   "metadata": {},
   "outputs": [
    {
     "name": "stdin",
     "output_type": "stream",
     "text": [
      " 1 2 3 4\n"
     ]
    },
    {
     "ename": "NameError",
     "evalue": "name 'split' is not defined",
     "output_type": "error",
     "traceback": [
      "\u001b[31m---------------------------------------------------------------------------\u001b[39m",
      "\u001b[31mNameError\u001b[39m                                 Traceback (most recent call last)",
      "\u001b[36mCell\u001b[39m\u001b[36m \u001b[39m\u001b[32mIn[24]\u001b[39m\u001b[32m, line 1\u001b[39m\n\u001b[32m----> \u001b[39m\u001b[32m1\u001b[39m \u001b[38;5;28mmap\u001b[39m(\u001b[38;5;28mint\u001b[39m,\u001b[38;5;28minput\u001b[39m(),\u001b[43msplit\u001b[49m())\n",
      "\u001b[31mNameError\u001b[39m: name 'split' is not defined"
     ]
    }
   ],
   "source": [
    "map(int,input(),split())"
   ]
  },
  {
   "cell_type": "code",
   "execution_count": 25,
   "id": "1d001796-16ef-4385-a75b-73a0fdcb9559",
   "metadata": {},
   "outputs": [
    {
     "name": "stdin",
     "output_type": "stream",
     "text": [
      " 1234\n"
     ]
    },
    {
     "data": {
      "text/plain": [
       "[1234]"
      ]
     },
     "execution_count": 25,
     "metadata": {},
     "output_type": "execute_result"
    }
   ],
   "source": [
    "list(map(int,input().split()))"
   ]
  },
  {
   "cell_type": "code",
   "execution_count": 26,
   "id": "991a1ed7-8c0c-407e-8203-ce71d61370a5",
   "metadata": {},
   "outputs": [
    {
     "name": "stdin",
     "output_type": "stream",
     "text": [
      " 1234\n"
     ]
    },
    {
     "name": "stdout",
     "output_type": "stream",
     "text": [
      "[1234]\n"
     ]
    }
   ],
   "source": [
    "lst = list(map(int,input().split()))\n",
    "print(lst)"
   ]
  },
  {
   "cell_type": "code",
   "execution_count": 28,
   "id": "8ee064a6-3d34-4382-ad70-e0a45b6a566e",
   "metadata": {},
   "outputs": [
    {
     "name": "stdin",
     "output_type": "stream",
     "text": [
      " 1 2 3 4\n"
     ]
    },
    {
     "name": "stdout",
     "output_type": "stream",
     "text": [
      "[1.0, 2.0, 3.0, 4.0]\n"
     ]
    }
   ],
   "source": [
    "lst = list(map(float,input().split()))\n",
    "print(lst)"
   ]
  },
  {
   "cell_type": "code",
   "execution_count": 30,
   "id": "daeb24bb-f0c4-417a-8e83-2069a17a1ea3",
   "metadata": {},
   "outputs": [
    {
     "name": "stdin",
     "output_type": "stream",
     "text": [
      " 1 2 3 4\n"
     ]
    },
    {
     "name": "stdout",
     "output_type": "stream",
     "text": [
      "['1', '2', '3', '4']\n"
     ]
    }
   ],
   "source": [
    "lst = list(map(str,input().split()))\n",
    "print(lst)"
   ]
  },
  {
   "cell_type": "code",
   "execution_count": 31,
   "id": "4a2dbe35-64e3-479e-814b-61c1c21cd0aa",
   "metadata": {},
   "outputs": [
    {
     "name": "stdin",
     "output_type": "stream",
     "text": [
      " 1 2 a\n"
     ]
    },
    {
     "ename": "TypeError",
     "evalue": "map() must have at least two arguments.",
     "output_type": "error",
     "traceback": [
      "\u001b[31m---------------------------------------------------------------------------\u001b[39m",
      "\u001b[31mTypeError\u001b[39m                                 Traceback (most recent call last)",
      "\u001b[36mCell\u001b[39m\u001b[36m \u001b[39m\u001b[32mIn[31]\u001b[39m\u001b[32m, line 1\u001b[39m\n\u001b[32m----> \u001b[39m\u001b[32m1\u001b[39m lst = \u001b[38;5;28mlist\u001b[39m(\u001b[38;5;28;43mmap\u001b[39;49m\u001b[43m(\u001b[49m\u001b[38;5;28;43minput\u001b[39;49m\u001b[43m(\u001b[49m\u001b[43m)\u001b[49m\u001b[43m.\u001b[49m\u001b[43msplit\u001b[49m\u001b[43m(\u001b[49m\u001b[43m)\u001b[49m\u001b[43m)\u001b[49m)\n\u001b[32m      2\u001b[39m \u001b[38;5;28mprint\u001b[39m(lst)\n",
      "\u001b[31mTypeError\u001b[39m: map() must have at least two arguments."
     ]
    }
   ],
   "source": [
    "lst = list(map(input().split()))\n",
    "print(lst)"
   ]
  },
  {
   "cell_type": "code",
   "execution_count": 33,
   "id": "ca55cc04-4efc-482d-9363-4eed81eac9ad",
   "metadata": {},
   "outputs": [
    {
     "name": "stdout",
     "output_type": "stream",
     "text": [
      "[1, 2, 3, 4, 5]\n"
     ]
    }
   ],
   "source": [
    "##List concation using '+'\n",
    "l1 = [1,2,3]\n",
    "l2 = [4,5]\n",
    "print(l1+l2)"
   ]
  },
  {
   "cell_type": "code",
   "execution_count": 34,
   "id": "41959dde-9d08-463f-ae45-432049e21104",
   "metadata": {},
   "outputs": [
    {
     "name": "stdout",
     "output_type": "stream",
     "text": [
      "[1, 2, 3, 1, 2, 3, 1, 2, 3]\n"
     ]
    }
   ],
   "source": [
    "##list repetation using'*'\n",
    "l1 = [1,2,3]\n",
    "print(l1*3)"
   ]
  },
  {
   "cell_type": "code",
   "execution_count": null,
   "id": "2fb8ec32-cd49-4079-9cdc-4a5bd3d67124",
   "metadata": {},
   "outputs": [],
   "source": [
    "## list methods\n",
    "append(value)-add the single value at the end of list\n",
    "extend(value)-it add the iterable values at end of list\n",
    "insert(postion,value)-add the value at specified position and followed values are right shifted\n",
    "index(value)-returns the 1st position of value, otherwise value error\n",
    "remove(value)-it removes the value at 1st occurance position\n",
    "pop()-returns and removes the pop value as per specified position, otherwise the last value\n",
    "clear()-removes the all elements from list\n",
    "del()-removes the list\n",
    "count(value)-returns the total occurance\n",
    "len(list-name)-total elements in the list  or length of list\n",
    "min(list-name)-returns the min value from the list\n",
    "max(list-name)-returns from the value from the list\n",
    "sum(list-name)-sum the all elements in the list"
   ]
  },
  {
   "cell_type": "code",
   "execution_count": 15,
   "id": "3c414b97-bbcb-475f-a254-a546a8e70b9a",
   "metadata": {},
   "outputs": [
    {
     "name": "stdout",
     "output_type": "stream",
     "text": [
      "original list: [1, 2, 3, '3a', 'b', 5.5, 6, 1, 2, 3]\n",
      "after append operation: [1, 2, 3, '3a', 'b', 5.5, 6, 1, 2, 3, 100]\n",
      "after append operation: [1, 2, 3, '3a', 'b', 5.5, 6, 1, 2, 3, 100, 200, 300]\n"
     ]
    },
    {
     "ename": "AttributeError",
     "evalue": "'list' object has no attribute 'nsert'",
     "output_type": "error",
     "traceback": [
      "\u001b[31m---------------------------------------------------------------------------\u001b[39m",
      "\u001b[31mAttributeError\u001b[39m                            Traceback (most recent call last)",
      "\u001b[36mCell\u001b[39m\u001b[36m \u001b[39m\u001b[32mIn[15]\u001b[39m\u001b[32m, line 8\u001b[39m\n\u001b[32m      6\u001b[39m l.extend([\u001b[32m200\u001b[39m,\u001b[32m300\u001b[39m])\n\u001b[32m      7\u001b[39m \u001b[38;5;28mprint\u001b[39m(\u001b[33m\"\u001b[39m\u001b[33mafter append operation:\u001b[39m\u001b[33m\"\u001b[39m,l)\n\u001b[32m----> \u001b[39m\u001b[32m8\u001b[39m \u001b[43ml\u001b[49m\u001b[43m.\u001b[49m\u001b[43mnsert\u001b[49m(\u001b[32m4\u001b[39m,\u001b[33m'\u001b[39m\u001b[33mcodegnan\u001b[39m\u001b[33m'\u001b[39m)\n\u001b[32m      9\u001b[39m \u001b[38;5;28mprint\u001b[39m(\u001b[33m\"\u001b[39m\u001b[33mafter insert operation:\u001b[39m\u001b[33m\"\u001b[39m,l)\n",
      "\u001b[31mAttributeError\u001b[39m: 'list' object has no attribute 'nsert'"
     ]
    }
   ],
   "source": [
    "l = [1,2,3,'3a','b',5.5,6,1,2,3]\n",
    "#append(),extend(),insert()\n",
    "print(\"original list:\",l)\n",
    "l.append(100)\n",
    "print(\"after append operation:\",l)\n",
    "l.extend([200,300])\n",
    "print(\"after append operation:\",l)\n",
    "l.nsert(4,'codegnan')\n",
    "print(\"after insert operation:\",l)\n"
   ]
  },
  {
   "cell_type": "code",
   "execution_count": 13,
   "id": "cac269b8-81fc-4af8-874e-356f101b793f",
   "metadata": {},
   "outputs": [
    {
     "name": "stdout",
     "output_type": "stream",
     "text": [
      "after remove operation: [1, 3, '3a', 'b', 5.5, 6, 1, 2, 3]\n",
      "after pop operation: [1, 3, '3a', 'b', 5.5, 6, 1, 2]\n",
      "after pop the 3rd operation: [1, 3, '3a', 5.5, 6, 1, 2]\n",
      "after del of 0th position ele: [3, '3a', 5.5, 6, 1, 2]\n",
      "after del using slicing operation: [3, '3a', 1, 2]\n",
      "after clear operation: []\n"
     ]
    }
   ],
   "source": [
    "#remove(),pop(),clear(),del()\n",
    "l = [1,2,3,'3a','b',5.5,6,1,2,3]\n",
    "l.remove(2)\n",
    "print(\"after remove operation:\",l)\n",
    "l.pop()\n",
    "print(\"after pop operation:\",l)\n",
    "l.pop(3)\n",
    "print(\"after pop the 3rd operation:\",l)\n",
    "del l[0]\n",
    "print(\"after del of 0th position ele:\",l)\n",
    "del l[2:4]\n",
    "print(\"after del using slicing operation:\",l)\n",
    "l.clear()\n",
    "print(\"after clear operation:\",l)\n",
    "\n",
    "\n"
   ]
  },
  {
   "cell_type": "code",
   "execution_count": 24,
   "id": "8d66da76-dcb3-46d3-870a-d055af368f9d",
   "metadata": {},
   "outputs": [
    {
     "name": "stdout",
     "output_type": "stream",
     "text": [
      "1\n",
      "11\n",
      "2\n",
      "42\n"
     ]
    }
   ],
   "source": [
    "#min(),max(),len(),count(0,sum(),sort()\n",
    "l = [1,2,5,10,11,3,4,1,2,3]\n",
    "min_value = min(l)\n",
    "max_value = max(l)\n",
    "count_2 = l.count(2)\n",
    "sum_list = sum(l)\n",
    "print(min_value)\n",
    "print(max_value)\n",
    "print(count_2)\n",
    "print(sum_list)"
   ]
  },
  {
   "cell_type": "raw",
   "id": "0d9d10b1-8770-426e-9172-e301fa612653",
   "metadata": {},
   "source": [
    "#sort()\n",
    "l = [1,2,5,10,11,34,2,3,4]\n",
    "l = [1,2,5,10,11,34,2,3,4]\n",
    "print(l)"
   ]
  },
  {
   "cell_type": "code",
   "execution_count": 26,
   "id": "3da3ecfe-80d0-4617-887f-2d20306ba55a",
   "metadata": {},
   "outputs": [
    {
     "name": "stdout",
     "output_type": "stream",
     "text": [
      "[1, 2, 2, 3, 4, 5, 10, 11, 34]\n"
     ]
    }
   ],
   "source": [
    "#sort()\n",
    "l = [1,2,5,10,11,34,2,3,4]\n",
    "l.sort()\n",
    "print(l)\n"
   ]
  },
  {
   "cell_type": "code",
   "execution_count": 4,
   "id": "cbba93cb-d355-42ce-ae9d-b887ef4699c5",
   "metadata": {},
   "outputs": [
    {
     "name": "stdout",
     "output_type": "stream",
     "text": [
      "[34, 11, 10, 5, 4, 3, 2, 2, 1]\n"
     ]
    }
   ],
   "source": [
    "#reverse\n",
    "l = [1,2,5,10,11,34,2,3,4]\n",
    "l.sort(reverse = True)\n",
    "print(l)\n"
   ]
  },
  {
   "cell_type": "code",
   "execution_count": 9,
   "id": "cf14e43e-57c9-4059-943a-3067e67cf431",
   "metadata": {},
   "outputs": [
    {
     "name": "stdout",
     "output_type": "stream",
     "text": [
      "3\n"
     ]
    }
   ],
   "source": [
    "#Nested list\n",
    "l =[1,2,3,[4,5,6],[7,[8,9],10]]\n",
    "print(l[2])"
   ]
  },
  {
   "cell_type": "code",
   "execution_count": 10,
   "id": "16967f81-8d9f-45c6-b71e-66e53ac5ca4f",
   "metadata": {},
   "outputs": [
    {
     "data": {
      "text/plain": [
       "5"
      ]
     },
     "execution_count": 10,
     "metadata": {},
     "output_type": "execute_result"
    }
   ],
   "source": [
    "l[3][1]"
   ]
  },
  {
   "cell_type": "code",
   "execution_count": 11,
   "id": "f6593aaa-8597-4603-ac1b-2b52f4635e57",
   "metadata": {},
   "outputs": [
    {
     "data": {
      "text/plain": [
       "6"
      ]
     },
     "execution_count": 11,
     "metadata": {},
     "output_type": "execute_result"
    }
   ],
   "source": [
    "l[3][2]"
   ]
  },
  {
   "cell_type": "code",
   "execution_count": 13,
   "id": "be83e736-eff1-4977-8a8c-12b5b8c0ad88",
   "metadata": {},
   "outputs": [
    {
     "data": {
      "text/plain": [
       "7"
      ]
     },
     "execution_count": 13,
     "metadata": {},
     "output_type": "execute_result"
    }
   ],
   "source": [
    "l[4][0]"
   ]
  },
  {
   "cell_type": "code",
   "execution_count": 14,
   "id": "ab7e6d28-45e0-472f-86e1-379b2468892b",
   "metadata": {},
   "outputs": [
    {
     "data": {
      "text/plain": [
       "8"
      ]
     },
     "execution_count": 14,
     "metadata": {},
     "output_type": "execute_result"
    }
   ],
   "source": [
    "l[4][1][0]"
   ]
  },
  {
   "cell_type": "code",
   "execution_count": 15,
   "id": "d25d2312-cc60-4f60-9844-40e3405d8fb3",
   "metadata": {},
   "outputs": [
    {
     "data": {
      "text/plain": [
       "[8, 9]"
      ]
     },
     "execution_count": 15,
     "metadata": {},
     "output_type": "execute_result"
    }
   ],
   "source": [
    "l[4][1]"
   ]
  },
  {
   "cell_type": "code",
   "execution_count": 16,
   "id": "1e2abca9-552f-473f-9e11-9673279519b7",
   "metadata": {},
   "outputs": [
    {
     "data": {
      "text/plain": [
       "10"
      ]
     },
     "execution_count": 16,
     "metadata": {},
     "output_type": "execute_result"
    }
   ],
   "source": [
    "l[4][2]"
   ]
  },
  {
   "cell_type": "markdown",
   "id": "895b2ebf-53c3-4699-9ee9-4a3dba912b73",
   "metadata": {},
   "source": []
  }
 ],
 "metadata": {
  "kernelspec": {
   "display_name": "Python 3 (ipykernel)",
   "language": "python",
   "name": "python3"
  },
  "language_info": {
   "codemirror_mode": {
    "name": "ipython",
    "version": 3
   },
   "file_extension": ".py",
   "mimetype": "text/x-python",
   "name": "python",
   "nbconvert_exporter": "python",
   "pygments_lexer": "ipython3",
   "version": "3.13.5"
  }
 },
 "nbformat": 4,
 "nbformat_minor": 5
}
